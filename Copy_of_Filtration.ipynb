{
  "nbformat": 4,
  "nbformat_minor": 0,
  "metadata": {
    "colab": {
      "provenance": [],
      "include_colab_link": true
    },
    "kernelspec": {
      "name": "python3",
      "display_name": "Python 3"
    },
    "language_info": {
      "name": "python"
    }
  },
  "cells": [
    {
      "cell_type": "markdown",
      "metadata": {
        "id": "view-in-github",
        "colab_type": "text"
      },
      "source": [
        "<a href=\"https://colab.research.google.com/github/Apurba1240/MultiTimeModeling/blob/main/Copy_of_Filtration.ipynb\" target=\"_parent\"><img src=\"https://colab.research.google.com/assets/colab-badge.svg\" alt=\"Open In Colab\"/></a>"
      ]
    },
    {
      "cell_type": "code",
      "execution_count": null,
      "metadata": {
        "colab": {
          "base_uri": "https://localhost:8080/",
          "height": 73
        },
        "id": "T-Pgwfo8DgYU",
        "outputId": "742c2036-6d4f-4795-976a-44b6c3a031d3"
      },
      "outputs": [
        {
          "output_type": "display_data",
          "data": {
            "text/plain": [
              "<IPython.core.display.HTML object>"
            ],
            "text/html": [
              "\n",
              "     <input type=\"file\" id=\"files-ef7758d9-3d6c-40a8-a50d-d1c0b5a1f2ac\" name=\"files[]\" multiple disabled\n",
              "        style=\"border:none\" />\n",
              "     <output id=\"result-ef7758d9-3d6c-40a8-a50d-d1c0b5a1f2ac\">\n",
              "      Upload widget is only available when the cell has been executed in the\n",
              "      current browser session. Please rerun this cell to enable.\n",
              "      </output>\n",
              "      <script>// Copyright 2017 Google LLC\n",
              "//\n",
              "// Licensed under the Apache License, Version 2.0 (the \"License\");\n",
              "// you may not use this file except in compliance with the License.\n",
              "// You may obtain a copy of the License at\n",
              "//\n",
              "//      http://www.apache.org/licenses/LICENSE-2.0\n",
              "//\n",
              "// Unless required by applicable law or agreed to in writing, software\n",
              "// distributed under the License is distributed on an \"AS IS\" BASIS,\n",
              "// WITHOUT WARRANTIES OR CONDITIONS OF ANY KIND, either express or implied.\n",
              "// See the License for the specific language governing permissions and\n",
              "// limitations under the License.\n",
              "\n",
              "/**\n",
              " * @fileoverview Helpers for google.colab Python module.\n",
              " */\n",
              "(function(scope) {\n",
              "function span(text, styleAttributes = {}) {\n",
              "  const element = document.createElement('span');\n",
              "  element.textContent = text;\n",
              "  for (const key of Object.keys(styleAttributes)) {\n",
              "    element.style[key] = styleAttributes[key];\n",
              "  }\n",
              "  return element;\n",
              "}\n",
              "\n",
              "// Max number of bytes which will be uploaded at a time.\n",
              "const MAX_PAYLOAD_SIZE = 100 * 1024;\n",
              "\n",
              "function _uploadFiles(inputId, outputId) {\n",
              "  const steps = uploadFilesStep(inputId, outputId);\n",
              "  const outputElement = document.getElementById(outputId);\n",
              "  // Cache steps on the outputElement to make it available for the next call\n",
              "  // to uploadFilesContinue from Python.\n",
              "  outputElement.steps = steps;\n",
              "\n",
              "  return _uploadFilesContinue(outputId);\n",
              "}\n",
              "\n",
              "// This is roughly an async generator (not supported in the browser yet),\n",
              "// where there are multiple asynchronous steps and the Python side is going\n",
              "// to poll for completion of each step.\n",
              "// This uses a Promise to block the python side on completion of each step,\n",
              "// then passes the result of the previous step as the input to the next step.\n",
              "function _uploadFilesContinue(outputId) {\n",
              "  const outputElement = document.getElementById(outputId);\n",
              "  const steps = outputElement.steps;\n",
              "\n",
              "  const next = steps.next(outputElement.lastPromiseValue);\n",
              "  return Promise.resolve(next.value.promise).then((value) => {\n",
              "    // Cache the last promise value to make it available to the next\n",
              "    // step of the generator.\n",
              "    outputElement.lastPromiseValue = value;\n",
              "    return next.value.response;\n",
              "  });\n",
              "}\n",
              "\n",
              "/**\n",
              " * Generator function which is called between each async step of the upload\n",
              " * process.\n",
              " * @param {string} inputId Element ID of the input file picker element.\n",
              " * @param {string} outputId Element ID of the output display.\n",
              " * @return {!Iterable<!Object>} Iterable of next steps.\n",
              " */\n",
              "function* uploadFilesStep(inputId, outputId) {\n",
              "  const inputElement = document.getElementById(inputId);\n",
              "  inputElement.disabled = false;\n",
              "\n",
              "  const outputElement = document.getElementById(outputId);\n",
              "  outputElement.innerHTML = '';\n",
              "\n",
              "  const pickedPromise = new Promise((resolve) => {\n",
              "    inputElement.addEventListener('change', (e) => {\n",
              "      resolve(e.target.files);\n",
              "    });\n",
              "  });\n",
              "\n",
              "  const cancel = document.createElement('button');\n",
              "  inputElement.parentElement.appendChild(cancel);\n",
              "  cancel.textContent = 'Cancel upload';\n",
              "  const cancelPromise = new Promise((resolve) => {\n",
              "    cancel.onclick = () => {\n",
              "      resolve(null);\n",
              "    };\n",
              "  });\n",
              "\n",
              "  // Wait for the user to pick the files.\n",
              "  const files = yield {\n",
              "    promise: Promise.race([pickedPromise, cancelPromise]),\n",
              "    response: {\n",
              "      action: 'starting',\n",
              "    }\n",
              "  };\n",
              "\n",
              "  cancel.remove();\n",
              "\n",
              "  // Disable the input element since further picks are not allowed.\n",
              "  inputElement.disabled = true;\n",
              "\n",
              "  if (!files) {\n",
              "    return {\n",
              "      response: {\n",
              "        action: 'complete',\n",
              "      }\n",
              "    };\n",
              "  }\n",
              "\n",
              "  for (const file of files) {\n",
              "    const li = document.createElement('li');\n",
              "    li.append(span(file.name, {fontWeight: 'bold'}));\n",
              "    li.append(span(\n",
              "        `(${file.type || 'n/a'}) - ${file.size} bytes, ` +\n",
              "        `last modified: ${\n",
              "            file.lastModifiedDate ? file.lastModifiedDate.toLocaleDateString() :\n",
              "                                    'n/a'} - `));\n",
              "    const percent = span('0% done');\n",
              "    li.appendChild(percent);\n",
              "\n",
              "    outputElement.appendChild(li);\n",
              "\n",
              "    const fileDataPromise = new Promise((resolve) => {\n",
              "      const reader = new FileReader();\n",
              "      reader.onload = (e) => {\n",
              "        resolve(e.target.result);\n",
              "      };\n",
              "      reader.readAsArrayBuffer(file);\n",
              "    });\n",
              "    // Wait for the data to be ready.\n",
              "    let fileData = yield {\n",
              "      promise: fileDataPromise,\n",
              "      response: {\n",
              "        action: 'continue',\n",
              "      }\n",
              "    };\n",
              "\n",
              "    // Use a chunked sending to avoid message size limits. See b/62115660.\n",
              "    let position = 0;\n",
              "    do {\n",
              "      const length = Math.min(fileData.byteLength - position, MAX_PAYLOAD_SIZE);\n",
              "      const chunk = new Uint8Array(fileData, position, length);\n",
              "      position += length;\n",
              "\n",
              "      const base64 = btoa(String.fromCharCode.apply(null, chunk));\n",
              "      yield {\n",
              "        response: {\n",
              "          action: 'append',\n",
              "          file: file.name,\n",
              "          data: base64,\n",
              "        },\n",
              "      };\n",
              "\n",
              "      let percentDone = fileData.byteLength === 0 ?\n",
              "          100 :\n",
              "          Math.round((position / fileData.byteLength) * 100);\n",
              "      percent.textContent = `${percentDone}% done`;\n",
              "\n",
              "    } while (position < fileData.byteLength);\n",
              "  }\n",
              "\n",
              "  // All done.\n",
              "  yield {\n",
              "    response: {\n",
              "      action: 'complete',\n",
              "    }\n",
              "  };\n",
              "}\n",
              "\n",
              "scope.google = scope.google || {};\n",
              "scope.google.colab = scope.google.colab || {};\n",
              "scope.google.colab._files = {\n",
              "  _uploadFiles,\n",
              "  _uploadFilesContinue,\n",
              "};\n",
              "})(self);\n",
              "</script> "
            ]
          },
          "metadata": {}
        },
        {
          "output_type": "stream",
          "name": "stdout",
          "text": [
            "Saving BreastCancerData.csv to BreastCancerData.csv\n"
          ]
        }
      ],
      "source": [
        "# upload a file\n",
        "from google.colab import files\n",
        "\n",
        "uploaded = files.upload()"
      ]
    },
    {
      "cell_type": "code",
      "source": [
        "# read a csv file\n",
        "import pandas as pd\n",
        "import io\n",
        "\n",
        "df = pd.read_csv(io.BytesIO(uploaded['BreastCancerData.csv']), header=None)\n",
        "print(df)"
      ],
      "metadata": {
        "colab": {
          "base_uri": "https://localhost:8080/"
        },
        "id": "JfTZmvQ8Ed5c",
        "outputId": "176a5ee5-dd67-477c-9de9-9f90347b514b"
      },
      "execution_count": null,
      "outputs": [
        {
          "output_type": "stream",
          "name": "stdout",
          "text": [
            "     0      1      2       3       4        5        6        7        8   \\\n",
            "0     1  17.99  10.38  122.80  1001.0  0.11840  0.27760  0.30010  0.14710   \n",
            "1     1  20.57  17.77  132.90  1326.0  0.08474  0.07864  0.08690  0.07017   \n",
            "2     1  19.69  21.25  130.00  1203.0  0.10960  0.15990  0.19740  0.12790   \n",
            "3     1  11.42  20.38   77.58   386.1  0.14250  0.28390  0.24140  0.10520   \n",
            "4     1  20.29  14.34  135.10  1297.0  0.10030  0.13280  0.19800  0.10430   \n",
            "..   ..    ...    ...     ...     ...      ...      ...      ...      ...   \n",
            "564   1  21.56  22.39  142.00  1479.0  0.11100  0.11590  0.24390  0.13890   \n",
            "565   1  20.13  28.25  131.20  1261.0  0.09780  0.10340  0.14400  0.09791   \n",
            "566   1  16.60  28.08  108.30   858.1  0.08455  0.10230  0.09251  0.05302   \n",
            "567   1  20.60  29.33  140.10  1265.0  0.11780  0.27700  0.35140  0.15200   \n",
            "568   2   7.76  24.54   47.92   181.0  0.05263  0.04362  0.00000  0.00000   \n",
            "\n",
            "         9   ...      21     22      23      24       25       26      27  \\\n",
            "0    0.2419  ...  25.380  17.33  184.60  2019.0  0.16220  0.66560  0.7119   \n",
            "1    0.1812  ...  24.990  23.41  158.80  1956.0  0.12380  0.18660  0.2416   \n",
            "2    0.2069  ...  23.570  25.53  152.50  1709.0  0.14440  0.42450  0.4504   \n",
            "3    0.2597  ...  14.910  26.50   98.87   567.7  0.20980  0.86630  0.6869   \n",
            "4    0.1809  ...  22.540  16.67  152.20  1575.0  0.13740  0.20500  0.4000   \n",
            "..      ...  ...     ...    ...     ...     ...      ...      ...     ...   \n",
            "564  0.1726  ...  25.450  26.40  166.10  2027.0  0.14100  0.21130  0.4107   \n",
            "565  0.1752  ...  23.690  38.25  155.00  1731.0  0.11660  0.19220  0.3215   \n",
            "566  0.1590  ...  18.980  34.12  126.70  1124.0  0.11390  0.30940  0.3403   \n",
            "567  0.2397  ...  25.740  39.42  184.60  1821.0  0.16500  0.86810  0.9387   \n",
            "568  0.1587  ...   9.456  30.37   59.16   268.6  0.08996  0.06444  0.0000   \n",
            "\n",
            "         28      29       30  \n",
            "0    0.2654  0.4601  0.11890  \n",
            "1    0.1860  0.2750  0.08902  \n",
            "2    0.2430  0.3613  0.08758  \n",
            "3    0.2575  0.6638  0.17300  \n",
            "4    0.1625  0.2364  0.07678  \n",
            "..      ...     ...      ...  \n",
            "564  0.2216  0.2060  0.07115  \n",
            "565  0.1628  0.2572  0.06637  \n",
            "566  0.1418  0.2218  0.07820  \n",
            "567  0.2650  0.4087  0.12400  \n",
            "568  0.0000  0.2871  0.07039  \n",
            "\n",
            "[569 rows x 31 columns]\n"
          ]
        }
      ]
    },
    {
      "cell_type": "code",
      "source": [
        "# pre-process the data\n",
        "df_shuffled = df.sample(frac=1) # shuffle the data\n",
        "\n",
        "n_train = (int) (0.8 * df_shuffled.shape[0])\n",
        "n_test = df_shuffled.shape[0] - n_train\n",
        "df_train = df_shuffled.head(n=n_train) # use 80% data for training\n",
        "df_test = df_shuffled.tail(n=n_test) # use remaining 20% data for testing\n",
        "\n",
        "\n",
        "n_f = 30\n",
        "x_train = df_train.iloc[:, 0:n_f] # split feature vectors for train data\n",
        "y_train = df_train.iloc[:, n_f]  # split class labels for train data\n",
        "x_test = df_test.iloc[:, 0:n_f] # split feature vectors for test data\n",
        "y_test = df_test.iloc[:, n_f] # split class labels for test data\n",
        "#x- input, y- output\n",
        "print(y_train)\n",
        "print(x_train)"
      ],
      "metadata": {
        "colab": {
          "base_uri": "https://localhost:8080/"
        },
        "id": "Lq2rSvLkEm05",
        "outputId": "c6ee7d2d-357e-4607-e27a-03486be31772"
      },
      "execution_count": null,
      "outputs": [
        {
          "output_type": "stream",
          "name": "stdout",
          "text": [
            "469    0.09270\n",
            "262    0.07484\n",
            "474    0.10800\n",
            "63     0.08490\n",
            "425    0.08061\n",
            "        ...   \n",
            "269    0.08701\n",
            "545    0.06953\n",
            "150    0.06435\n",
            "62     0.11320\n",
            "488    0.08024\n",
            "Name: 30, Length: 455, dtype: float64\n",
            "     0       1      2       3      4        5        6        7         8   \\\n",
            "469   2  11.620  18.18   76.38  408.8  0.11750  0.14830  0.10200  0.055640   \n",
            "262   1  17.290  22.13  114.40  947.8  0.08999  0.12730  0.09697  0.075070   \n",
            "474   2  10.880  15.62   70.41  358.9  0.10070  0.10690  0.05115  0.015710   \n",
            "63    2   9.173  13.86   59.20  260.9  0.07721  0.08751  0.05988  0.021800   \n",
            "425   2  10.030  21.28   63.19  307.3  0.08117  0.03912  0.00247  0.005159   \n",
            "..   ..     ...    ...     ...    ...      ...      ...      ...       ...   \n",
            "269   2  10.710  20.39   69.50  344.9  0.10820  0.12890  0.08448  0.028670   \n",
            "545   2  13.620  23.23   87.19  573.2  0.09246  0.06747  0.02974  0.024430   \n",
            "150   2  13.000  20.78   83.51  519.4  0.11350  0.07589  0.03136  0.026450   \n",
            "62    1  14.250  22.15   96.42  645.7  0.10490  0.20080  0.21350  0.086530   \n",
            "488   2  11.680  16.17   75.49  420.5  0.11280  0.09263  0.04279  0.031320   \n",
            "\n",
            "         9   ...        20     21     22      23      24       25       26  \\\n",
            "469  0.1957  ...  0.005217  13.36  25.40   88.14   528.1  0.17800  0.28780   \n",
            "262  0.2108  ...  0.005838  20.39  27.24  137.90  1295.0  0.11340  0.28670   \n",
            "474  0.1861  ...  0.004672  11.94  19.35   80.78   433.1  0.13320  0.38980   \n",
            "63   0.2341  ...  0.005822  10.01  19.23   65.59   310.1  0.09836  0.16780   \n",
            "425  0.1630  ...  0.002411  11.11  28.94   69.92   376.3  0.11260  0.07094   \n",
            "..      ...  ...       ...    ...    ...     ...     ...      ...      ...   \n",
            "269  0.1668  ...  0.007610  11.69  25.21   76.51   410.4  0.13350  0.25500   \n",
            "545  0.1664  ...  0.002583  15.35  29.09   97.58   729.8  0.12160  0.15170   \n",
            "150  0.2540  ...  0.001533  14.16  24.11   90.82   616.7  0.12970  0.11050   \n",
            "62   0.1949  ...  0.006113  17.67  29.51  119.10   959.5  0.16400  0.62470   \n",
            "488  0.1853  ...  0.003213  13.32  21.59   86.57   549.8  0.15260  0.14770   \n",
            "\n",
            "          27       28      29  \n",
            "469  0.31860  0.14160  0.2660  \n",
            "262  0.22980  0.15280  0.3067  \n",
            "474  0.33650  0.07966  0.2581  \n",
            "63   0.13970  0.05087  0.3282  \n",
            "425  0.01235  0.02579  0.2349  \n",
            "..       ...      ...     ...  \n",
            "269  0.25340  0.08600  0.2605  \n",
            "545  0.10490  0.07174  0.2642  \n",
            "150  0.08112  0.06296  0.3196  \n",
            "62   0.69220  0.17850  0.2844  \n",
            "488  0.14900  0.09815  0.2804  \n",
            "\n",
            "[455 rows x 30 columns]\n"
          ]
        }
      ]
    },
    {
      "cell_type": "code",
      "source": [
        "x_max = x_train.max() # find the max values of each feature of the train data\n",
        "x_min = x_train.min() # find the min values of each feature of the train data\n",
        "x_diff = x_max - x_min\n",
        "x_train = (x_train - x_min) / x_diff # normalize the train data\n",
        "x_test = (x_test - x_min) / x_diff # normalize the test data\n",
        "\n",
        "y_max = y_train.max() # find the max values of the dependant variable\n",
        "y_min = y_train.min() # find the max values of the dependant variable\n",
        "y_diff = y_max - y_min\n",
        "y_train = (y_train - y_min) / y_diff # norm. the d. var. of the train data\n",
        "y_test = (y_test - y_min) / y_diff # norm. the d. var. of the test data\n",
        "\n",
        "print(x_train)\n",
        "print(y_train)"
      ],
      "metadata": {
        "id": "IZigMZPG55AU",
        "outputId": "934bfec0-c792-4885-a9a9-22f4bb2a4f00",
        "colab": {
          "base_uri": "https://localhost:8080/"
        }
      },
      "execution_count": null,
      "outputs": [
        {
          "output_type": "stream",
          "name": "stdout",
          "text": [
            "      0         1         2         3         4         5         6   \\\n",
            "469  1.0  0.219556  0.286439  0.225209  0.112630  0.545049  0.395436   \n",
            "262  0.0  0.487908  0.420020  0.487941  0.341456  0.272376  0.331023   \n",
            "474  1.0  0.184533  0.199865  0.183954  0.091446  0.378531  0.268450   \n",
            "63   1.0  0.103744  0.140345  0.106489  0.049841  0.145703  0.208975   \n",
            "425  1.0  0.144304  0.391275  0.134061  0.069539  0.184954  0.060548   \n",
            "..   ...       ...       ...       ...       ...       ...       ...   \n",
            "269  1.0  0.176487  0.361177  0.177666  0.085502  0.452869  0.335930   \n",
            "545  1.0  0.314213  0.457220  0.299910  0.182424  0.296858  0.147506   \n",
            "150  1.0  0.284869  0.374366  0.274480  0.159584  0.505402  0.173333   \n",
            "62   0.0  0.344030  0.420697  0.363693  0.213203  0.420161  0.556469   \n",
            "488  1.0  0.222396  0.218465  0.219059  0.117597  0.498464  0.224679   \n",
            "\n",
            "           7         8         9   ...        20        21        22  \\\n",
            "469  0.239212  0.290852  0.453030  ...  0.149324  0.215476  0.380763   \n",
            "262  0.227416  0.392420  0.529293  ...  0.170778  0.494444  0.433125   \n",
            "474  0.119958  0.082122  0.404545  ...  0.130495  0.159127  0.208594   \n",
            "63   0.140432  0.113957  0.646970  ...  0.170225  0.082540  0.205179   \n",
            "425  0.005793  0.026968  0.287879  ...  0.052382  0.126190  0.481503   \n",
            "..        ...       ...       ...  ...       ...       ...       ...   \n",
            "269  0.198124  0.149869  0.307071  ...  0.231997  0.149206  0.375356   \n",
            "545  0.069747  0.127705  0.305051  ...  0.058324  0.294444  0.485771   \n",
            "150  0.073546  0.138265  0.747475  ...  0.022049  0.247222  0.344052   \n",
            "62   0.500704  0.452326  0.448990  ...  0.180279  0.386508  0.497723   \n",
            "488  0.100352  0.163722  0.400505  ...  0.080089  0.213889  0.272339   \n",
            "\n",
            "           23        24        25        26        27        28        29  \n",
            "469  0.210912  0.105612  0.705474  0.286083  0.254473  0.486598  0.260157  \n",
            "262  0.489071  0.341813  0.278875  0.284875  0.183546  0.525086  0.356854  \n",
            "474  0.169769  0.076352  0.409628  0.398096  0.268770  0.273746  0.241388  \n",
            "63   0.084857  0.038469  0.179555  0.154303  0.111581  0.174811  0.407935  \n",
            "425  0.109061  0.058858  0.273592  0.047935  0.009864  0.088625  0.186268  \n",
            "..        ...       ...       ...       ...       ...       ...       ...  \n",
            "269  0.145900  0.069361  0.411609  0.250063  0.202396  0.295533  0.247090  \n",
            "545  0.263682  0.167734  0.333025  0.136623  0.083786  0.246529  0.255880  \n",
            "150  0.225893  0.132900  0.386515  0.091378  0.064792  0.216357  0.387503  \n",
            "62   0.383979  0.238481  0.613023  0.656055  0.552875  0.613402  0.303873  \n",
            "488  0.202135  0.112295  0.537740  0.132230  0.119010  0.337285  0.294369  \n",
            "\n",
            "[455 rows x 30 columns]\n",
            "469    0.402522\n",
            "262    0.211629\n",
            "474    0.566054\n",
            "63     0.319153\n",
            "425    0.273301\n",
            "         ...   \n",
            "269    0.341706\n",
            "545    0.154874\n",
            "150    0.099508\n",
            "62     0.621633\n",
            "488    0.269346\n",
            "Name: 30, Length: 455, dtype: float64\n"
          ]
        }
      ]
    },
    {
      "cell_type": "code",
      "source": [
        "# train a MLP\n",
        "from sklearn.neural_network import MLPRegressor\n",
        "\n",
        "reg = MLPRegressor(\n",
        "    hidden_layer_sizes=(50), activation='relu', solver='lbfgs',\n",
        "    max_iter=5000, random_state=1\n",
        ")\n",
        "reg.fit(x_train, y_train)\n",
        "score = reg.score(x_train, y_train)\n",
        "print(score)"
      ],
      "metadata": {
        "colab": {
          "base_uri": "https://localhost:8080/"
        },
        "id": "aDbkO6-aE5jh",
        "outputId": "030de7e1-0c5b-40c9-8351-2ed327f6f4ab"
      },
      "execution_count": null,
      "outputs": [
        {
          "output_type": "stream",
          "name": "stdout",
          "text": [
            "0.9815095209240374\n"
          ]
        }
      ]
    },
    {
      "cell_type": "code",
      "source": [
        "from sklearn.linear_model import LinearRegression\n",
        "from lightgbm import LGBMRegressor\n",
        "from xgboost.sklearn import XGBRegressor\n",
        "from sklearn.kernel_ridge import KernelRidge\n",
        "from sklearn.linear_model import ElasticNet\n",
        "from sklearn.linear_model import BayesianRidge\n",
        "from sklearn.ensemble import GradientBoostingRegressor\n",
        "from sklearn.svm import SVR\n",
        "from sklearn.ensemble import RandomForestRegressor\n",
        "from sklearn.linear_model import LogisticRegression\n",
        "\n",
        "#reg = LinearRegression()\n",
        "#reg = LogisticRegression()\n",
        "#reg = LGBMRegressor()\n",
        "#reg = XGBRegressor()\n",
        "#reg = KernelRidge()\n",
        "#reg = ElasticNet()\n",
        "#reg = BayesianRidge()\n",
        "#reg = GradientBoostingRegressor()\n",
        "#reg = SVR()\n",
        "reg = RandomForestRegressor()\n",
        "\n",
        "reg.fit(x_train, y_train)\n",
        "score = reg.score(x_train, y_train)\n",
        "print(score)"
      ],
      "metadata": {
        "colab": {
          "base_uri": "https://localhost:8080/"
        },
        "id": "sJCTqVy4E_cA",
        "outputId": "9175e14c-2811-4112-b650-c73451098df8"
      },
      "execution_count": null,
      "outputs": [
        {
          "output_type": "stream",
          "name": "stdout",
          "text": [
            "0.9812331488776844\n"
          ]
        }
      ]
    },
    {
      "cell_type": "code",
      "source": [
        "# inspect the model testing\n",
        "import numpy as np\n",
        "import matplotlib.pyplot as plt\n",
        "y_pred = reg.predict(x_test)\n",
        "score=reg.score(x_test,y_test)\n",
        "print(score)\n",
        "y_train_predict=reg.predict(x_train)\n",
        "\n",
        "#print(y_test)\n",
        "#print(y_pred)\n",
        "#print(x_test)\n",
        "\n",
        "#plt.scatter(y_test, y_pred, c = 'r', marker='.')\n",
        "#plt.xlabel('Predicted')\n",
        "#plt.ylabel('Actual')"
      ],
      "metadata": {
        "colab": {
          "base_uri": "https://localhost:8080/"
        },
        "id": "_RlUGn9wFFaB",
        "outputId": "08fc771c-41d8-4862-e651-0ef09a5ff5eb"
      },
      "execution_count": null,
      "outputs": [
        {
          "output_type": "stream",
          "name": "stdout",
          "text": [
            "0.764279602823326\n"
          ]
        }
      ]
    },
    {
      "cell_type": "code",
      "source": [
        "import math\n",
        "MSE = np.square(np.subtract(y_test,y_pred)).mean()\n",
        "RMSE = math.sqrt(MSE)\n",
        "print(\"Root Mean Square Error:\\n\")\n",
        "print(RMSE)\n",
        "print(MSE)"
      ],
      "metadata": {
        "colab": {
          "base_uri": "https://localhost:8080/"
        },
        "id": "S1HpgGTKF9xy",
        "outputId": "4eb5a6ad-4fad-410d-e135-4d464bd9dd27"
      },
      "execution_count": null,
      "outputs": [
        {
          "output_type": "stream",
          "name": "stdout",
          "text": [
            "Root Mean Square Error:\n",
            "\n",
            "0.11528909515326936\n",
            "0.013291575461259596\n"
          ]
        }
      ]
    },
    {
      "cell_type": "code",
      "source": [
        "from sklearn.metrics import mean_absolute_error as mae\n",
        "error = mae(y_test,y_pred)\n",
        "print(\"Mean absolute error : \" + str(error))"
      ],
      "metadata": {
        "colab": {
          "base_uri": "https://localhost:8080/"
        },
        "id": "Bag8ws-zGEJH",
        "outputId": "9f889b73-4c91-4dc0-827e-b9060c2d8359"
      },
      "execution_count": null,
      "outputs": [
        {
          "output_type": "stream",
          "name": "stdout",
          "text": [
            "Mean absolute error : 0.06575104258079997\n"
          ]
        }
      ]
    },
    {
      "cell_type": "code",
      "source": [
        "df_1=pd.DataFrame(y_pred,y_test)\n",
        "from google.colab import files\n",
        "df_1.to_csv('result 1.csv')\n",
        "files.download('result 1.csv')"
      ],
      "metadata": {
        "colab": {
          "base_uri": "https://localhost:8080/",
          "height": 17
        },
        "id": "WqM2RA6pGJUz",
        "outputId": "8c9ff580-1ef8-4d13-ea4d-18a5e80c8352"
      },
      "execution_count": null,
      "outputs": [
        {
          "output_type": "display_data",
          "data": {
            "text/plain": [
              "<IPython.core.display.Javascript object>"
            ],
            "application/javascript": [
              "\n",
              "    async function download(id, filename, size) {\n",
              "      if (!google.colab.kernel.accessAllowed) {\n",
              "        return;\n",
              "      }\n",
              "      const div = document.createElement('div');\n",
              "      const label = document.createElement('label');\n",
              "      label.textContent = `Downloading \"${filename}\": `;\n",
              "      div.appendChild(label);\n",
              "      const progress = document.createElement('progress');\n",
              "      progress.max = size;\n",
              "      div.appendChild(progress);\n",
              "      document.body.appendChild(div);\n",
              "\n",
              "      const buffers = [];\n",
              "      let downloaded = 0;\n",
              "\n",
              "      const channel = await google.colab.kernel.comms.open(id);\n",
              "      // Send a message to notify the kernel that we're ready.\n",
              "      channel.send({})\n",
              "\n",
              "      for await (const message of channel.messages) {\n",
              "        // Send a message to notify the kernel that we're ready.\n",
              "        channel.send({})\n",
              "        if (message.buffers) {\n",
              "          for (const buffer of message.buffers) {\n",
              "            buffers.push(buffer);\n",
              "            downloaded += buffer.byteLength;\n",
              "            progress.value = downloaded;\n",
              "          }\n",
              "        }\n",
              "      }\n",
              "      const blob = new Blob(buffers, {type: 'application/binary'});\n",
              "      const a = document.createElement('a');\n",
              "      a.href = window.URL.createObjectURL(blob);\n",
              "      a.download = filename;\n",
              "      div.appendChild(a);\n",
              "      a.click();\n",
              "      div.remove();\n",
              "    }\n",
              "  "
            ]
          },
          "metadata": {}
        },
        {
          "output_type": "display_data",
          "data": {
            "text/plain": [
              "<IPython.core.display.Javascript object>"
            ],
            "application/javascript": [
              "download(\"download_18125e4e-0562-4fb6-8f52-9e43d256014a\", \"result 1.csv\", 4438)"
            ]
          },
          "metadata": {}
        }
      ]
    },
    {
      "cell_type": "code",
      "source": [
        "df_2=pd.DataFrame(y_train_predict,y_train)\n",
        "from google.colab import files\n",
        "df_2.to_csv('result 2.csv')\n",
        "files.download('result 2.csv')"
      ],
      "metadata": {
        "colab": {
          "base_uri": "https://localhost:8080/",
          "height": 17
        },
        "id": "1sNAX2D4GONy",
        "outputId": "476fd4b4-64e7-4aa4-b40d-ec4d803e2191"
      },
      "execution_count": null,
      "outputs": [
        {
          "output_type": "display_data",
          "data": {
            "text/plain": [
              "<IPython.core.display.Javascript object>"
            ],
            "application/javascript": [
              "\n",
              "    async function download(id, filename, size) {\n",
              "      if (!google.colab.kernel.accessAllowed) {\n",
              "        return;\n",
              "      }\n",
              "      const div = document.createElement('div');\n",
              "      const label = document.createElement('label');\n",
              "      label.textContent = `Downloading \"${filename}\": `;\n",
              "      div.appendChild(label);\n",
              "      const progress = document.createElement('progress');\n",
              "      progress.max = size;\n",
              "      div.appendChild(progress);\n",
              "      document.body.appendChild(div);\n",
              "\n",
              "      const buffers = [];\n",
              "      let downloaded = 0;\n",
              "\n",
              "      const channel = await google.colab.kernel.comms.open(id);\n",
              "      // Send a message to notify the kernel that we're ready.\n",
              "      channel.send({})\n",
              "\n",
              "      for await (const message of channel.messages) {\n",
              "        // Send a message to notify the kernel that we're ready.\n",
              "        channel.send({})\n",
              "        if (message.buffers) {\n",
              "          for (const buffer of message.buffers) {\n",
              "            buffers.push(buffer);\n",
              "            downloaded += buffer.byteLength;\n",
              "            progress.value = downloaded;\n",
              "          }\n",
              "        }\n",
              "      }\n",
              "      const blob = new Blob(buffers, {type: 'application/binary'});\n",
              "      const a = document.createElement('a');\n",
              "      a.href = window.URL.createObjectURL(blob);\n",
              "      a.download = filename;\n",
              "      div.appendChild(a);\n",
              "      a.click();\n",
              "      div.remove();\n",
              "    }\n",
              "  "
            ]
          },
          "metadata": {}
        },
        {
          "output_type": "display_data",
          "data": {
            "text/plain": [
              "<IPython.core.display.Javascript object>"
            ],
            "application/javascript": [
              "download(\"download_32884c3b-0ad3-42e4-9201-f5a0bc734e5e\", \"result 2.csv\", 17689)"
            ]
          },
          "metadata": {}
        }
      ]
    }
  ]
}